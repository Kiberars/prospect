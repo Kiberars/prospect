{
 "cells": [
  {
   "cell_type": "code",
   "execution_count": 6,
   "id": "53cbd851",
   "metadata": {},
   "outputs": [
    {
     "name": "stdout",
     "output_type": "stream",
     "text": [
      "Data:  Genesis Block\n",
      "Timestamp:  2024-02-18 19:10:38.499776\n",
      "Hash:  3c5f3f9e5a12c90ecc0acf8fcfb6615ea077782279c4befbcb928f12e79208fa\n",
      "Previous Hash:  0\n",
      "\n",
      "Data:  {'data': 'Transaction 1'}\n",
      "Timestamp:  2024-02-18 19:10:38.499776\n",
      "Hash:  39cb82dce708c8f06c535f9439798a9a5ba99502192de244e90842304840324c\n",
      "Previous Hash:  3c5f3f9e5a12c90ecc0acf8fcfb6615ea077782279c4befbcb928f12e79208fa\n",
      "\n",
      "Data:  {'data': 'Transaction 2'}\n",
      "Timestamp:  2024-02-18 19:10:38.499776\n",
      "Hash:  209ab336d52e0c451730e4099913c98276075a5a79e97e3da749345a9e3f2192\n",
      "Previous Hash:  39cb82dce708c8f06c535f9439798a9a5ba99502192de244e90842304840324c\n",
      "\n",
      "Data:  {'data': 'Transaction 3'}\n",
      "Timestamp:  2024-02-18 19:10:38.499776\n",
      "Hash:  9552628c498b026e82ea1107952f4a4f787c5d4cda9d6cececf7bc3b203fbd5d\n",
      "Previous Hash:  209ab336d52e0c451730e4099913c98276075a5a79e97e3da749345a9e3f2192\n",
      "\n",
      "Is chain Valid True\n"
     ]
    }
   ],
   "source": [
    "import hashlib\n",
    "import datetime\n",
    "\n",
    "class block:\n",
    "    def __init__(self, timestamp, data, previous_hash):\n",
    "        self.timestamp = timestamp\n",
    "        self.previous_hash = previous_hash\n",
    "        self.data = data\n",
    "        self.hash = self.calculate_hash()\n",
    "        \n",
    "    def calculate_hash(self):\n",
    "        hash_string = str(self.timestamp) + str(self.data) + str(self.previous_hash)\n",
    "        return hashlib.sha256(hash_string.encode()).hexdigest()\n",
    "myBlock = block(datetime.datetime.now(), {\"data\":\"Transaction 1\"},\"\")\n",
    "\n",
    "class Blockchain:\n",
    "    def __init__(self):\n",
    "        self.chain = [self.create_genesis_block()]\n",
    "    def create_genesis_block(self):\n",
    "        return block(datetime.datetime.now(),\"Genesis Block\",\"0\")\n",
    "    def add_block(self, new_block):\n",
    "        new_block.previous_hash = self.chain[-1].hash\n",
    "        new_block.hash = new_block.calculate_hash()\n",
    "        self.chain.append(new_block)\n",
    "    def is_chain_valid(self):\n",
    "        for i in range(1, len(self.chain)):\n",
    "            current_block = self.chain[i]\n",
    "            previous_block = self.chain[i-1]\n",
    "            if current_block.hash != current_block.calculate_hash():\n",
    "                return False\n",
    "            if current_block.previous_hash != previous_block.hash:\n",
    "                return False\n",
    "        return True\n",
    "demo_blockchain = Blockchain()\n",
    "demo_blockchain.add_block(block(datetime.datetime.now(), {\"data\":\"Transaction 1\"}, \"\"))\n",
    "demo_blockchain.add_block(block(datetime.datetime.now(), {\"data\":\"Transaction 2\"}, \"\"))\n",
    "demo_blockchain.add_block(block(datetime.datetime.now(), {\"data\":\"Transaction 3\"}, \"\"))\n",
    "for block in demo_blockchain.chain:\n",
    "    print(\"Data: \", block.data)\n",
    "    print(\"Timestamp: \", block.timestamp)\n",
    "    print(\"Hash: \", block.hash)\n",
    "    print(\"Previous Hash: \", block.previous_hash)\n",
    "    print()\n",
    "print(\"Is chain Valid\", demo_blockchain.is_chain_valid())"
   ]
  },
  {
   "cell_type": "code",
   "execution_count": null,
   "id": "9106aa20",
   "metadata": {},
   "outputs": [],
   "source": []
  }
 ],
 "metadata": {
  "kernelspec": {
   "display_name": "Python 3 (ipykernel)",
   "language": "python",
   "name": "python3"
  },
  "language_info": {
   "codemirror_mode": {
    "name": "ipython",
    "version": 3
   },
   "file_extension": ".py",
   "mimetype": "text/x-python",
   "name": "python",
   "nbconvert_exporter": "python",
   "pygments_lexer": "ipython3",
   "version": "3.11.5"
  }
 },
 "nbformat": 4,
 "nbformat_minor": 5
}
